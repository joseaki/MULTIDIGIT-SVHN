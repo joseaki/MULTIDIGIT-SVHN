{
 "cells": [
  {
   "cell_type": "code",
   "execution_count": 1,
   "metadata": {},
   "outputs": [],
   "source": [
    "from dataset import svhn_dataset, toPIL\n",
    "import matplotlib.pyplot as plt\n",
    "import random\n",
    "import torch\n",
    "import torch.nn as nn\n",
    "import torch.optim as optim\n",
    "import torchvision.transforms as transforms\n",
    "from torch.utils.data import DataLoader\n",
    "from train import train_model\n",
    "import model"
   ]
  },
  {
   "cell_type": "markdown",
   "metadata": {},
   "source": [
    "# Load dataset"
   ]
  },
  {
   "cell_type": "code",
   "execution_count": 2,
   "metadata": {},
   "outputs": [
    {
     "name": "stdout",
     "output_type": "stream",
     "text": [
      "loading data from ./data/SVHN/test\n",
      "loading data from ./data/SVHN/train\n",
      "loading data from ./data/SVHN/extra\n"
     ]
    }
   ],
   "source": [
    "test_dataset = svhn_dataset(\"./data/SVHN/test\",\n",
    "                            transform=transforms.Compose(\n",
    "                                [transforms.ToTensor(), \n",
    "                                 transforms.Normalize([0.485, 0.456, 0.406], [0.229, 0.224, 0.225])\n",
    "                                 ])\n",
    "                            )\n",
    "\n",
    "train_dataset = svhn_dataset(\"./data/SVHN/train\",\n",
    "                             transform=transforms.Compose(\n",
    "                                 [toPIL(),\n",
    "                                  transforms.RandomChoice(\n",
    "                                      [transforms.ColorJitter(brightness=[0.5,0.8],\n",
    "                                                              contrast=[0.4,0.5],\n",
    "                                                              saturation=[0,1]),\n",
    "                                       transforms.RandomRotation(degrees=30)]),\n",
    "                                  transforms.ColorJitter(hue=[-0.5,0.5]),\n",
    "                                  transforms.ToTensor(),\n",
    "                                  transforms.Normalize([0.485, 0.456, 0.406], [0.229, 0.224, 0.225])\n",
    "                                  ])\n",
    "                             )\n",
    "\n",
    "extra_dataset = svhn_dataset(\"./data/SVHN/extra\",\n",
    "                             transform=transforms.Compose(\n",
    "                                 [transforms.ToTensor(),\n",
    "                                  transforms.Normalize([0.485, 0.456, 0.406], [0.229, 0.224, 0.225])\n",
    "                                  ])\n",
    "                             )\n"
   ]
  },
  {
   "cell_type": "code",
   "execution_count": 3,
   "metadata": {},
   "outputs": [],
   "source": [
    "train_loader = DataLoader(train_dataset, batch_size = 256, num_workers = 0, shuffle = True, drop_last = True)\n",
    "validation_loader = DataLoader(test_dataset, batch_size = 256, num_workers = 0, shuffle = True, drop_last = True)\n",
    "test_loader = DataLoader(extra_dataset, batch_size = 128, num_workers = 0, shuffle = True, drop_last = True)"
   ]
  },
  {
   "cell_type": "code",
   "execution_count": 4,
   "metadata": {},
   "outputs": [
    {
     "name": "stdout",
     "output_type": "stream",
     "text": [
      "training set has 130 batches \n",
      "validation set has 51 batches \n",
      "test set has 1580 batches \n"
     ]
    }
   ],
   "source": [
    "print(\"training set has {} batches \".format(len(train_loader)))\n",
    "print(\"validation set has {} batches \".format(len(validation_loader)))\n",
    "print(\"test set has {} batches \".format(len(test_loader)))"
   ]
  },
  {
   "cell_type": "markdown",
   "metadata": {},
   "source": [
    "## Plot a random image"
   ]
  },
  {
   "cell_type": "code",
   "execution_count": 5,
   "metadata": {},
   "outputs": [
    {
     "data": {
      "text/plain": [
       "<matplotlib.image.AxesImage at 0x2f0acdfdac8>"
      ]
     },
     "execution_count": 5,
     "metadata": {},
     "output_type": "execute_result"
    },
    {
     "data": {
      "image/png": "[encoded data removed]",
      "text/plain": [
       "<Figure size 432x288 with 1 Axes>"
      ]
     },
     "metadata": {
      "needs_background": "light"
     },
     "output_type": "display_data"
    }
   ],
   "source": [
    "rnd = random.randint(0,10000)\n",
    "image = train_dataset[rnd][\"image\"]\n",
    "plt.figure()\n",
    "plt.imshow(image.permute(1,2,0)[:,:,0])"
   ]
  },
  {
   "cell_type": "markdown",
   "metadata": {},
   "source": [
    "# Train the model"
   ]
  },
  {
   "cell_type": "code",
   "execution_count": 6,
   "metadata": {},
   "outputs": [
    {
     "name": "stdout",
     "output_type": "stream",
     "text": [
      "Epoch 0/149\n",
      "----------\n",
      "train Loss: 1.1837 Acc: 0.5874\n",
      "Predicciones tensor([10, 10, 10,  1,  4], device='cuda:0')\n",
      "Real ....... tensor([10, 10, 10,  1,  2], device='cuda:0')\n",
      "val Loss: 0.9654 Acc: 0.6595\n",
      "\n",
      "Epoch 1/149\n",
      "----------\n",
      "train Loss: 1.0278 Acc: 0.6400\n"
     ]
    },
    {
     "ename": "KeyboardInterrupt",
     "evalue": "",
     "output_type": "error",
     "traceback": [
      "\u001b[1;31m---------------------------------------------------------------------------\u001b[0m",
      "\u001b[1;31mKeyboardInterrupt\u001b[0m                         Traceback (most recent call last)",
      "\u001b[1;32m<ipython-input-6-c9c9dfe79c42>\u001b[0m in \u001b[0;36m<module>\u001b[1;34m\u001b[0m\n\u001b[0;32m     18\u001b[0m \u001b[0mscratch_optimizer\u001b[0m \u001b[1;33m=\u001b[0m \u001b[0moptim\u001b[0m\u001b[1;33m.\u001b[0m\u001b[0mAdam\u001b[0m\u001b[1;33m(\u001b[0m\u001b[0mscratch_model\u001b[0m\u001b[1;33m.\u001b[0m\u001b[0mparameters\u001b[0m\u001b[1;33m(\u001b[0m\u001b[1;33m)\u001b[0m\u001b[1;33m,\u001b[0m \u001b[0mlr\u001b[0m\u001b[1;33m=\u001b[0m\u001b[1;36m0.0001\u001b[0m\u001b[1;33m)\u001b[0m\u001b[1;33m\u001b[0m\u001b[1;33m\u001b[0m\u001b[0m\n\u001b[0;32m     19\u001b[0m \u001b[0mscratch_criterion\u001b[0m \u001b[1;33m=\u001b[0m \u001b[0mnn\u001b[0m\u001b[1;33m.\u001b[0m\u001b[0mCrossEntropyLoss\u001b[0m\u001b[1;33m(\u001b[0m\u001b[1;33m)\u001b[0m\u001b[1;33m\u001b[0m\u001b[1;33m\u001b[0m\u001b[0m\n\u001b[1;32m---> 20\u001b[1;33m \u001b[0mbest_model\u001b[0m\u001b[1;33m,\u001b[0m \u001b[0mscratch_hist\u001b[0m \u001b[1;33m=\u001b[0m \u001b[0mtrain_model\u001b[0m\u001b[1;33m(\u001b[0m\u001b[0mscratch_model\u001b[0m\u001b[1;33m,\u001b[0m \u001b[0mdataloaders_dict\u001b[0m\u001b[1;33m,\u001b[0m \u001b[0mscratch_criterion\u001b[0m\u001b[1;33m,\u001b[0m \u001b[0mscratch_optimizer\u001b[0m\u001b[1;33m,\u001b[0m \u001b[0mdevice\u001b[0m\u001b[1;33m,\u001b[0m \u001b[0mnum_epochs\u001b[0m\u001b[1;33m=\u001b[0m\u001b[1;36m150\u001b[0m\u001b[1;33m)\u001b[0m\u001b[1;33m\u001b[0m\u001b[1;33m\u001b[0m\u001b[0m\n\u001b[0m",
      "\u001b[1;32mD:\\0. TESIS\\pruebas\\MULTIDIGIT SVHN\\train.py\u001b[0m in \u001b[0;36mtrain_model\u001b[1;34m(model, dataloaders, criterion, optimizer, device, num_epochs)\u001b[0m\n\u001b[0;32m     59\u001b[0m \u001b[1;33m\u001b[0m\u001b[0m\n\u001b[0;32m     60\u001b[0m                 \u001b[1;31m# statistics\u001b[0m\u001b[1;33m\u001b[0m\u001b[1;33m\u001b[0m\u001b[1;33m\u001b[0m\u001b[0m\n\u001b[1;32m---> 61\u001b[1;33m                 \u001b[0mrunning_loss\u001b[0m \u001b[1;33m+=\u001b[0m \u001b[0mloss\u001b[0m\u001b[1;33m.\u001b[0m\u001b[0mitem\u001b[0m\u001b[1;33m(\u001b[0m\u001b[1;33m)\u001b[0m \u001b[1;33m*\u001b[0m \u001b[0minputs\u001b[0m\u001b[1;33m.\u001b[0m\u001b[0msize\u001b[0m\u001b[1;33m(\u001b[0m\u001b[1;36m0\u001b[0m\u001b[1;33m)\u001b[0m\u001b[1;33m\u001b[0m\u001b[1;33m\u001b[0m\u001b[0m\n\u001b[0m\u001b[0;32m     62\u001b[0m                 \u001b[0mrunning_corrects\u001b[0m \u001b[1;33m+=\u001b[0m \u001b[0mpreds\u001b[0m\u001b[1;33m.\u001b[0m\u001b[0meq\u001b[0m\u001b[1;33m(\u001b[0m\u001b[0mlabels\u001b[0m\u001b[1;33m)\u001b[0m\u001b[1;33m.\u001b[0m\u001b[0msum\u001b[0m\u001b[1;33m(\u001b[0m\u001b[1;33m)\u001b[0m \u001b[1;31m#torch.sum(preds == labels.data)\u001b[0m\u001b[1;33m\u001b[0m\u001b[1;33m\u001b[0m\u001b[0m\n\u001b[0;32m     63\u001b[0m \u001b[1;33m\u001b[0m\u001b[0m\n",
      "\u001b[1;31mKeyboardInterrupt\u001b[0m: "
     ]
    }
   ],
   "source": [
    "# Detect if we have a GPU available\n",
    "device = torch.device(\"cuda:0\" if torch.cuda.is_available() else \"cpu\")\n",
    "\n",
    "scratch_model = model.vgg11_bn()\n",
    "\n",
    "# Print the model we just instantiated\n",
    "# print(scratch_model)\n",
    "\n",
    "#params_to_update = scratch_model.parameters()\n",
    "#print(\"Params to learn:\")\n",
    "\n",
    "#for name,param in scratch_model.named_parameters():\n",
    "#    if param.requires_grad == True:\n",
    "#        print(\"\\t\",name)\n",
    "\n",
    "dataloaders_dict = {\"train\":train_loader,\"val\":validation_loader}\n",
    "scratch_model = scratch_model.to(device)\n",
    "scratch_optimizer = optim.Adam(scratch_model.parameters(), lr=0.0001)\n",
    "scratch_criterion = nn.CrossEntropyLoss()\n",
    "best_model, scratch_hist = train_model(scratch_model, dataloaders_dict, scratch_criterion, scratch_optimizer, device, num_epochs=150)\n"
   ]
  },
  {
   "cell_type": "markdown",
   "metadata": {},
   "source": [
    "## Save trained model"
   ]
  },
  {
   "cell_type": "code",
   "execution_count": null,
   "metadata": {},
   "outputs": [],
   "source": [
    "PATH = './best_model.pth'\n",
    "torch.save(best_model.state_dict(), PATH)"
   ]
  },
  {
   "cell_type": "markdown",
   "metadata": {},
   "source": [
    "## Load model and test it with extra dataset"
   ]
  },
  {
   "cell_type": "code",
   "execution_count": null,
   "metadata": {},
   "outputs": [],
   "source": [
    "device = torch.device(\"cuda:0\" if torch.cuda.is_available() else \"cpu\")\n",
    "PATH = './best_model.pth'\n",
    "model = vgg11_bn()\n",
    "model = model.to(device)\n",
    "model.load_state_dict(torch.load(PATH))\n",
    "model.eval()\n",
    "correctos = 0.0\n",
    "incorrectos = 0\n",
    "total_imagenes = 0\n",
    "for i, data in enumerate(test_loader,0):\n",
    "    image = data[\"image\"].to(device, dtype=torch.float)\n",
    "    label = data[\"labels\"].to(device, dtype=torch.long)\n",
    "    totalbatch = len(image)\n",
    "    total_imagenes += totalbatch\n",
    "    out = model(image)\n",
    "    _,preds = torch.max(out, 1)\n",
    "    cor = preds.eq(label).sum()\n",
    "    correctos += cor\n",
    "    incorrectos += totalbatch*5 - (cor)\n",
    "    \n",
    "print(correctos, incorrectos, total_imagenes)\n",
    "x = ((correctos.item())/(total_imagenes*5))*100\n",
    "print(\"accuracy {}%\".format(x))"
   ]
  },
  {
   "cell_type": "markdown",
   "metadata": {},
   "source": [
    "## Plot Validation Accuracy vs. Number of Training Epochs"
   ]
  },
  {
   "cell_type": "code",
   "execution_count": null,
   "metadata": {},
   "outputs": [],
   "source": [
    "plt.title(\"Validation Accuracy vs. Number of Training Epochs\")\n",
    "shist = [h.cpu().numpy() for h in scratch_hist]\n",
    "plt.plot(range(1,150+1),shist,label=\"Scratch\")\n",
    "plt.xticks(np.arange(0, 151, 15.0))\n",
    "plt.legend()\n",
    "plt.show()"
   ]
  }
 ],
 "metadata": {
  "kernelspec": {
   "display_name": "Python (cv)",
   "language": "python",
   "name": "cv"
  },
  "language_info": {
   "codemirror_mode": {
    "name": "ipython",
    "version": 3
   },
   "file_extension": ".py",
   "mimetype": "text/x-python",
   "name": "python",
   "nbconvert_exporter": "python",
   "pygments_lexer": "ipython3",
   "version": "3.7.6"
  }
 },
 "nbformat": 4,
 "nbformat_minor": 4
}
